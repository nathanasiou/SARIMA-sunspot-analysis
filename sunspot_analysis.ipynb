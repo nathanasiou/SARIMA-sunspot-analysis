{
 "cells": [
  {
   "cell_type": "markdown",
   "metadata": {},
   "source": [
    "# Sunspots Time Series Analysis with SARIMA\n"
   ]
  },
  {
   "cell_type": "markdown",
   "metadata": {},
   "source": [
    "### Do the number of sunspots observed follow a seasonal pattern?"
   ]
  },
  {
   "cell_type": "markdown",
   "metadata": {},
   "source": [
    "Sunspots, cooler and visibly darker areas on the Sun, are caused by the Sun's magnetic field (https://science.nasa.gov/sun/sunspots/). The Sun's plasma can cause magnetic field lines to twist, creating snarls that stop heat from rising to the surface. The Sun is known to have a cycle of 11 years -- this is when the magnetic poles flip. The aim of this project is to model the Sun's solar cycle using sunspot data.\n",
    "\n",
    "The daily sunspot dataset contains observations from 1818-2019. The total sunspot number is calculated from R = N + 10 * N_groups, where N is the number of spots and N_groups is the number of groups on the solar disk (https://www.sidc.be/SILSO/infosndtot).\n",
    "\n",
    "Seasonal Autoregressive Integrated Moving Average (SARIMA) is a time series forecasting model specifically for seasonal patterns (https://www.geeksforgeeks.org/sarima-seasonal-autoregressive-integrated-moving-average/). Hence, SARIMA is used in this analysis to model the total sunspot number over time. SARIMA includes autoregressive (AR), integrated (I), and moving average (MA) components. The S is the seasonal component, representing recurring patterns at regular intervals such as daily. The AR component captures the correlation between the current observation and previous values. The I component captures how many differences are necessary for stationarity, a requirement of time series modeling. Finally, the MA component accounts for short-term noise."
   ]
  },
  {
   "cell_type": "code",
   "execution_count": 1,
   "metadata": {},
   "outputs": [
    {
     "name": "stderr",
     "output_type": "stream",
     "text": [
      "/usr/local/lib/python3.8/site-packages/statsmodels/tsa/base/tsa_model.py:7: FutureWarning: pandas.Int64Index is deprecated and will be removed from pandas in a future version. Use pandas.Index with the appropriate dtype instead.\n",
      "  from pandas import (to_datetime, Int64Index, DatetimeIndex, Period,\n",
      "/usr/local/lib/python3.8/site-packages/statsmodels/tsa/base/tsa_model.py:7: FutureWarning: pandas.Float64Index is deprecated and will be removed from pandas in a future version. Use pandas.Index with the appropriate dtype instead.\n",
      "  from pandas import (to_datetime, Int64Index, DatetimeIndex, Period,\n"
     ]
    }
   ],
   "source": [
    "import pandas as pd\n",
    "import matplotlib.pyplot as plt\n",
    "import re\n",
    "from statsmodels.tsa.statespace.sarimax import SARIMAX\n",
    "from statsmodels.tsa.stattools import adfuller\n",
    "from statsmodels.graphics.tsaplots import plot_acf, plot_pacf\n",
    "from sklearn.metrics import mean_absolute_error, mean_squared_error"
   ]
  },
  {
   "cell_type": "markdown",
   "metadata": {},
   "source": [
    "### Data Gathering & Understanding"
   ]
  },
  {
   "cell_type": "code",
   "execution_count": 2,
   "metadata": {},
   "outputs": [
    {
     "data": {
      "text/html": [
       "<div>\n",
       "<style scoped>\n",
       "    .dataframe tbody tr th:only-of-type {\n",
       "        vertical-align: middle;\n",
       "    }\n",
       "\n",
       "    .dataframe tbody tr th {\n",
       "        vertical-align: top;\n",
       "    }\n",
       "\n",
       "    .dataframe thead th {\n",
       "        text-align: right;\n",
       "    }\n",
       "</style>\n",
       "<table border=\"1\" class=\"dataframe\">\n",
       "  <thead>\n",
       "    <tr style=\"text-align: right;\">\n",
       "      <th></th>\n",
       "      <th>Unnamed: 0</th>\n",
       "      <th>Year</th>\n",
       "      <th>Month</th>\n",
       "      <th>Day</th>\n",
       "      <th>Date In Fraction Of Year</th>\n",
       "      <th>Number of Sunspots</th>\n",
       "      <th>Standard Deviation</th>\n",
       "      <th>Observations</th>\n",
       "      <th>Indicator</th>\n",
       "    </tr>\n",
       "  </thead>\n",
       "  <tbody>\n",
       "    <tr>\n",
       "      <th>count</th>\n",
       "      <td>73718.000000</td>\n",
       "      <td>73718.000000</td>\n",
       "      <td>73718.000000</td>\n",
       "      <td>73718.000000</td>\n",
       "      <td>73718.000000</td>\n",
       "      <td>73718.000000</td>\n",
       "      <td>73718.000000</td>\n",
       "      <td>73718.000000</td>\n",
       "      <td>73718.000000</td>\n",
       "    </tr>\n",
       "    <tr>\n",
       "      <th>mean</th>\n",
       "      <td>36858.500000</td>\n",
       "      <td>1918.416750</td>\n",
       "      <td>6.518896</td>\n",
       "      <td>15.729347</td>\n",
       "      <td>1918.916406</td>\n",
       "      <td>79.248732</td>\n",
       "      <td>6.924587</td>\n",
       "      <td>4.429678</td>\n",
       "      <td>0.998331</td>\n",
       "    </tr>\n",
       "    <tr>\n",
       "      <th>std</th>\n",
       "      <td>21280.697909</td>\n",
       "      <td>58.264401</td>\n",
       "      <td>3.447114</td>\n",
       "      <td>8.800032</td>\n",
       "      <td>58.264520</td>\n",
       "      <td>77.470942</td>\n",
       "      <td>4.778793</td>\n",
       "      <td>7.884112</td>\n",
       "      <td>0.040814</td>\n",
       "    </tr>\n",
       "    <tr>\n",
       "      <th>min</th>\n",
       "      <td>0.000000</td>\n",
       "      <td>1818.000000</td>\n",
       "      <td>1.000000</td>\n",
       "      <td>1.000000</td>\n",
       "      <td>1818.001000</td>\n",
       "      <td>-1.000000</td>\n",
       "      <td>-1.000000</td>\n",
       "      <td>0.000000</td>\n",
       "      <td>0.000000</td>\n",
       "    </tr>\n",
       "    <tr>\n",
       "      <th>25%</th>\n",
       "      <td>18429.250000</td>\n",
       "      <td>1868.000000</td>\n",
       "      <td>4.000000</td>\n",
       "      <td>8.000000</td>\n",
       "      <td>1868.458500</td>\n",
       "      <td>15.000000</td>\n",
       "      <td>3.000000</td>\n",
       "      <td>1.000000</td>\n",
       "      <td>1.000000</td>\n",
       "    </tr>\n",
       "    <tr>\n",
       "      <th>50%</th>\n",
       "      <td>36858.500000</td>\n",
       "      <td>1918.000000</td>\n",
       "      <td>7.000000</td>\n",
       "      <td>16.000000</td>\n",
       "      <td>1918.917500</td>\n",
       "      <td>58.000000</td>\n",
       "      <td>6.600000</td>\n",
       "      <td>1.000000</td>\n",
       "      <td>1.000000</td>\n",
       "    </tr>\n",
       "    <tr>\n",
       "      <th>75%</th>\n",
       "      <td>55287.750000</td>\n",
       "      <td>1969.000000</td>\n",
       "      <td>10.000000</td>\n",
       "      <td>23.000000</td>\n",
       "      <td>1969.373250</td>\n",
       "      <td>125.000000</td>\n",
       "      <td>10.000000</td>\n",
       "      <td>1.000000</td>\n",
       "      <td>1.000000</td>\n",
       "    </tr>\n",
       "    <tr>\n",
       "      <th>max</th>\n",
       "      <td>73717.000000</td>\n",
       "      <td>2019.000000</td>\n",
       "      <td>12.000000</td>\n",
       "      <td>31.000000</td>\n",
       "      <td>2019.832000</td>\n",
       "      <td>528.000000</td>\n",
       "      <td>77.700000</td>\n",
       "      <td>60.000000</td>\n",
       "      <td>1.000000</td>\n",
       "    </tr>\n",
       "  </tbody>\n",
       "</table>\n",
       "</div>"
      ],
      "text/plain": [
       "         Unnamed: 0          Year         Month           Day  \\\n",
       "count  73718.000000  73718.000000  73718.000000  73718.000000   \n",
       "mean   36858.500000   1918.416750      6.518896     15.729347   \n",
       "std    21280.697909     58.264401      3.447114      8.800032   \n",
       "min        0.000000   1818.000000      1.000000      1.000000   \n",
       "25%    18429.250000   1868.000000      4.000000      8.000000   \n",
       "50%    36858.500000   1918.000000      7.000000     16.000000   \n",
       "75%    55287.750000   1969.000000     10.000000     23.000000   \n",
       "max    73717.000000   2019.000000     12.000000     31.000000   \n",
       "\n",
       "       Date In Fraction Of Year  Number of Sunspots  Standard Deviation  \\\n",
       "count              73718.000000        73718.000000        73718.000000   \n",
       "mean                1918.916406           79.248732            6.924587   \n",
       "std                   58.264520           77.470942            4.778793   \n",
       "min                 1818.001000           -1.000000           -1.000000   \n",
       "25%                 1868.458500           15.000000            3.000000   \n",
       "50%                 1918.917500           58.000000            6.600000   \n",
       "75%                 1969.373250          125.000000           10.000000   \n",
       "max                 2019.832000          528.000000           77.700000   \n",
       "\n",
       "       Observations     Indicator  \n",
       "count  73718.000000  73718.000000  \n",
       "mean       4.429678      0.998331  \n",
       "std        7.884112      0.040814  \n",
       "min        0.000000      0.000000  \n",
       "25%        1.000000      1.000000  \n",
       "50%        1.000000      1.000000  \n",
       "75%        1.000000      1.000000  \n",
       "max       60.000000      1.000000  "
      ]
     },
     "metadata": {},
     "output_type": "display_data"
    }
   ],
   "source": [
    "sunspots = pd.read_csv('sunspot_data.csv') # data from kaggle https://www.kaggle.com/datasets/abhinand05/daily-sun-spot-data-1818-to-2019/data\n",
    "                                           # original source https://www.sidc.be/SILSO/infosndtot\n",
    "display(sunspots.describe())"
   ]
  },
  {
   "cell_type": "markdown",
   "metadata": {},
   "source": [
    "### Data Cleaning"
   ]
  },
  {
   "cell_type": "markdown",
   "metadata": {},
   "source": [
    "These cells clean the column names, check missingness, and filter out the years with missing data."
   ]
  },
  {
   "cell_type": "code",
   "execution_count": 3,
   "metadata": {},
   "outputs": [
    {
     "data": {
      "text/html": [
       "<div>\n",
       "<style scoped>\n",
       "    .dataframe tbody tr th:only-of-type {\n",
       "        vertical-align: middle;\n",
       "    }\n",
       "\n",
       "    .dataframe tbody tr th {\n",
       "        vertical-align: top;\n",
       "    }\n",
       "\n",
       "    .dataframe thead th {\n",
       "        text-align: right;\n",
       "    }\n",
       "</style>\n",
       "<table border=\"1\" class=\"dataframe\">\n",
       "  <thead>\n",
       "    <tr style=\"text-align: right;\">\n",
       "      <th></th>\n",
       "      <th>year</th>\n",
       "      <th>month</th>\n",
       "      <th>day</th>\n",
       "      <th>date_in_fraction_of_year</th>\n",
       "      <th>number_of_sunspots</th>\n",
       "      <th>standard_deviation</th>\n",
       "      <th>observations</th>\n",
       "      <th>indicator</th>\n",
       "    </tr>\n",
       "  </thead>\n",
       "  <tbody>\n",
       "    <tr>\n",
       "      <th>0</th>\n",
       "      <td>1818</td>\n",
       "      <td>1</td>\n",
       "      <td>1</td>\n",
       "      <td>1818.001</td>\n",
       "      <td>-1</td>\n",
       "      <td>-1.0</td>\n",
       "      <td>0</td>\n",
       "      <td>1</td>\n",
       "    </tr>\n",
       "    <tr>\n",
       "      <th>1</th>\n",
       "      <td>1818</td>\n",
       "      <td>1</td>\n",
       "      <td>2</td>\n",
       "      <td>1818.004</td>\n",
       "      <td>-1</td>\n",
       "      <td>-1.0</td>\n",
       "      <td>0</td>\n",
       "      <td>1</td>\n",
       "    </tr>\n",
       "    <tr>\n",
       "      <th>2</th>\n",
       "      <td>1818</td>\n",
       "      <td>1</td>\n",
       "      <td>3</td>\n",
       "      <td>1818.007</td>\n",
       "      <td>-1</td>\n",
       "      <td>-1.0</td>\n",
       "      <td>0</td>\n",
       "      <td>1</td>\n",
       "    </tr>\n",
       "    <tr>\n",
       "      <th>3</th>\n",
       "      <td>1818</td>\n",
       "      <td>1</td>\n",
       "      <td>4</td>\n",
       "      <td>1818.010</td>\n",
       "      <td>-1</td>\n",
       "      <td>-1.0</td>\n",
       "      <td>0</td>\n",
       "      <td>1</td>\n",
       "    </tr>\n",
       "    <tr>\n",
       "      <th>4</th>\n",
       "      <td>1818</td>\n",
       "      <td>1</td>\n",
       "      <td>5</td>\n",
       "      <td>1818.012</td>\n",
       "      <td>-1</td>\n",
       "      <td>-1.0</td>\n",
       "      <td>0</td>\n",
       "      <td>1</td>\n",
       "    </tr>\n",
       "  </tbody>\n",
       "</table>\n",
       "</div>"
      ],
      "text/plain": [
       "   year  month  day  date_in_fraction_of_year  number_of_sunspots  \\\n",
       "0  1818      1    1                  1818.001                  -1   \n",
       "1  1818      1    2                  1818.004                  -1   \n",
       "2  1818      1    3                  1818.007                  -1   \n",
       "3  1818      1    4                  1818.010                  -1   \n",
       "4  1818      1    5                  1818.012                  -1   \n",
       "\n",
       "   standard_deviation  observations  indicator  \n",
       "0                -1.0             0          1  \n",
       "1                -1.0             0          1  \n",
       "2                -1.0             0          1  \n",
       "3                -1.0             0          1  \n",
       "4                -1.0             0          1  "
      ]
     },
     "metadata": {},
     "output_type": "display_data"
    }
   ],
   "source": [
    "sunspots.columns = [re.sub(r'\\s','_', i.lower()) for i in sunspots.columns] # replace spaces with underscore, make columns lowercase\n",
    "sunspots = sunspots.iloc[:, 1:] # drop first column representing index\n",
    "display(sunspots.head())"
   ]
  },
  {
   "cell_type": "code",
   "execution_count": 4,
   "metadata": {},
   "outputs": [
    {
     "data": {
      "text/plain": [
       "<function matplotlib.pyplot.show(close=None, block=None)>"
      ]
     },
     "execution_count": 4,
     "metadata": {},
     "output_type": "execute_result"
    },
    {
     "data": {
      "image/png": "[encoded data removed]",
      "text/plain": [
       "<Figure size 432x288 with 1 Axes>"
      ]
     },
     "metadata": {
      "needs_background": "light"
     },
     "output_type": "display_data"
    }
   ],
   "source": [
    "# checking missing data\n",
    "len(sunspots[sunspots['observations']==0])/len(sunspots[sunspots['observations']>0]) # 4% missing obs encoded as -1\n",
    "latest_missing_year = max(sunspots[sunspots['observations']==0].year)\n",
    "plt.hist(sunspots[sunspots['number_of_sunspots'] == -1].year)\n",
    "plt.show"
   ]
  },
  {
   "cell_type": "code",
   "execution_count": 5,
   "metadata": {},
   "outputs": [
    {
     "data": {
      "text/plain": [
       "1848"
      ]
     },
     "execution_count": 5,
     "metadata": {},
     "output_type": "execute_result"
    }
   ],
   "source": [
    "latest_missing_year"
   ]
  },
  {
   "cell_type": "markdown",
   "metadata": {},
   "source": [
    "All of the missing data is before 1848 (inclusive). Due to the high level of missingness during these years, backfilling and imputing are not justified; the dataset is simply filtered to exclude the years with missing data."
   ]
  },
  {
   "cell_type": "code",
   "execution_count": 6,
   "metadata": {
    "collapsed": true,
    "jupyter": {
     "outputs_hidden": true
    }
   },
   "outputs": [],
   "source": [
    "# filter data to only include datapoints after most recent year\n",
    "sunspots_filtered = sunspots.query('year > {}'.format(latest_missing_year)).copy()"
   ]
  },
  {
   "cell_type": "code",
   "execution_count": 7,
   "metadata": {
    "collapsed": true,
    "jupyter": {
     "outputs_hidden": true
    }
   },
   "outputs": [],
   "source": [
    "# date must be in datetime format as index to run SARIMA\n",
    "sunspots_filtered['date'] = pd.to_datetime(sunspots_filtered[['year', 'month', 'day']])\n",
    "sunspots_filtered = sunspots_filtered.set_index('date')"
   ]
  },
  {
   "cell_type": "code",
   "execution_count": 8,
   "metadata": {},
   "outputs": [
    {
     "data": {
      "text/html": [
       "<div>\n",
       "<style scoped>\n",
       "    .dataframe tbody tr th:only-of-type {\n",
       "        vertical-align: middle;\n",
       "    }\n",
       "\n",
       "    .dataframe tbody tr th {\n",
       "        vertical-align: top;\n",
       "    }\n",
       "\n",
       "    .dataframe thead th {\n",
       "        text-align: right;\n",
       "    }\n",
       "</style>\n",
       "<table border=\"1\" class=\"dataframe\">\n",
       "  <thead>\n",
       "    <tr style=\"text-align: right;\">\n",
       "      <th></th>\n",
       "      <th>year</th>\n",
       "      <th>month</th>\n",
       "      <th>day</th>\n",
       "      <th>date_in_fraction_of_year</th>\n",
       "      <th>number_of_sunspots</th>\n",
       "      <th>standard_deviation</th>\n",
       "      <th>observations</th>\n",
       "      <th>indicator</th>\n",
       "    </tr>\n",
       "    <tr>\n",
       "      <th>date</th>\n",
       "      <th></th>\n",
       "      <th></th>\n",
       "      <th></th>\n",
       "      <th></th>\n",
       "      <th></th>\n",
       "      <th></th>\n",
       "      <th></th>\n",
       "      <th></th>\n",
       "    </tr>\n",
       "  </thead>\n",
       "  <tbody>\n",
       "    <tr>\n",
       "      <th>1870-08-26</th>\n",
       "      <td>1870</td>\n",
       "      <td>8</td>\n",
       "      <td>26</td>\n",
       "      <td>1870.651</td>\n",
       "      <td>528</td>\n",
       "      <td>25.8</td>\n",
       "      <td>1</td>\n",
       "      <td>1</td>\n",
       "    </tr>\n",
       "    <tr>\n",
       "      <th>1870-08-27</th>\n",
       "      <td>1870</td>\n",
       "      <td>8</td>\n",
       "      <td>27</td>\n",
       "      <td>1870.653</td>\n",
       "      <td>520</td>\n",
       "      <td>25.6</td>\n",
       "      <td>1</td>\n",
       "      <td>1</td>\n",
       "    </tr>\n",
       "    <tr>\n",
       "      <th>1870-08-29</th>\n",
       "      <td>1870</td>\n",
       "      <td>8</td>\n",
       "      <td>29</td>\n",
       "      <td>1870.659</td>\n",
       "      <td>518</td>\n",
       "      <td>25.6</td>\n",
       "      <td>1</td>\n",
       "      <td>1</td>\n",
       "    </tr>\n",
       "    <tr>\n",
       "      <th>1957-12-24</th>\n",
       "      <td>1957</td>\n",
       "      <td>12</td>\n",
       "      <td>24</td>\n",
       "      <td>1957.979</td>\n",
       "      <td>503</td>\n",
       "      <td>15.1</td>\n",
       "      <td>1</td>\n",
       "      <td>1</td>\n",
       "    </tr>\n",
       "    <tr>\n",
       "      <th>1957-12-25</th>\n",
       "      <td>1957</td>\n",
       "      <td>12</td>\n",
       "      <td>25</td>\n",
       "      <td>1957.982</td>\n",
       "      <td>503</td>\n",
       "      <td>15.1</td>\n",
       "      <td>1</td>\n",
       "      <td>1</td>\n",
       "    </tr>\n",
       "  </tbody>\n",
       "</table>\n",
       "</div>"
      ],
      "text/plain": [
       "            year  month  day  date_in_fraction_of_year  number_of_sunspots  \\\n",
       "date                                                                         \n",
       "1870-08-26  1870      8   26                  1870.651                 528   \n",
       "1870-08-27  1870      8   27                  1870.653                 520   \n",
       "1870-08-29  1870      8   29                  1870.659                 518   \n",
       "1957-12-24  1957     12   24                  1957.979                 503   \n",
       "1957-12-25  1957     12   25                  1957.982                 503   \n",
       "\n",
       "            standard_deviation  observations  indicator  \n",
       "date                                                     \n",
       "1870-08-26                25.8             1          1  \n",
       "1870-08-27                25.6             1          1  \n",
       "1870-08-29                25.6             1          1  \n",
       "1957-12-24                15.1             1          1  \n",
       "1957-12-25                15.1             1          1  "
      ]
     },
     "metadata": {},
     "output_type": "display_data"
    },
    {
     "data": {
      "image/png": "[encoded data removed]",
      "text/plain": [
       "<Figure size 432x288 with 1 Axes>"
      ]
     },
     "metadata": {
      "needs_background": "light"
     },
     "output_type": "display_data"
    }
   ],
   "source": [
    "display(sunspots_filtered.sort_values('number_of_sunspots', ascending = False).head())\n",
    "\n",
    "plt.plot(sunspots_filtered['number_of_sunspots'], linewidth = 2)\n",
    "plt.title('Daily Sunspots')\n",
    "plt.xlabel('Date')\n",
    "plt.ylabel('Number of Sunspots')\n",
    "plt.show()"
   ]
  },
  {
   "cell_type": "markdown",
   "metadata": {},
   "source": [
    "### SARIMA Analysis"
   ]
  },
  {
   "cell_type": "markdown",
   "metadata": {},
   "source": [
    "#### Check Stationarity Assumption"
   ]
  },
  {
   "cell_type": "markdown",
   "metadata": {},
   "source": [
    "Before applying time series model SARIMA, we must check the stationarity assumption. The Augmented Dickey-Fuller (ADF) test is used to determine stationarity."
   ]
  },
  {
   "cell_type": "code",
   "execution_count": 9,
   "metadata": {},
   "outputs": [
    {
     "name": "stdout",
     "output_type": "stream",
     "text": [
      "ADF Statistic: -9.389680011546577\n",
      "p-value: 6.612617975892046e-16\n",
      "Stationary\n"
     ]
    }
   ],
   "source": [
    "num_sunspots = sunspots_filtered.number_of_sunspots.resample('Q').mean()\n",
    "adf_output = adfuller(num_sunspots, autolag='AIC')\n",
    "\n",
    "print('ADF Statistic: {}'.format(adf_output[0]))\n",
    "print('p-value: {}'.format(adf_output[1]))\n",
    "\n",
    "if adf_output[1] < 0.05:\n",
    "    print('Stationary')\n",
    "else:\n",
    "    print('Non-Stationary')"
   ]
  },
  {
   "cell_type": "markdown",
   "metadata": {},
   "source": [
    "The p-value of 6.61e-16 indicates the observations, which were resampled to be quarterly, are stationary. Next, autocorrelation and partial autocorrelationn plots are used to determine the parameter values."
   ]
  },
  {
   "cell_type": "code",
   "execution_count": 10,
   "metadata": {},
   "outputs": [
    {
     "data": {
      "image/png": "[encoded data removed]",
      "text/plain": [
       "<Figure size 432x288 with 1 Axes>"
      ]
     },
     "metadata": {
      "needs_background": "light"
     },
     "output_type": "display_data"
    },
    {
     "data": {
      "image/png": "[encoded data removed]",
      "text/plain": [
       "<Figure size 432x288 with 1 Axes>"
      ]
     },
     "metadata": {
      "needs_background": "light"
     },
     "output_type": "display_data"
    }
   ],
   "source": [
    "plot_acf(num_sunspots)\n",
    "plot_pacf(num_sunspots)\n",
    "plt.show()"
   ]
  },
  {
   "cell_type": "markdown",
   "metadata": {},
   "source": [
    "For ACF plot, initial spikes at lags <= 9, implying q<=9. From p-values in the next cell, the best result is at q=1 and Q=0.\n",
    "\n",
    "For PACF plot, initial spikes at lags <= 3, implying p<=3. From p-values in the next cell, the best result is at p=1 and P=2.\n",
    "\n",
    "Based on the known cycle of the sun's magnetic field, the seasonality is 11 years * 4 quarters in a year = 44. "
   ]
  },
  {
   "cell_type": "code",
   "execution_count": 11,
   "metadata": {},
   "outputs": [],
   "source": [
    "# define parameters\n",
    "p, d, q = 1, 0, 1\n",
    "P, D, Q, s = 2, 1, 0, 44\n",
    "model = SARIMAX(num_sunspots, trend = 'n', order=(p, d, q), seasonal_order = (P, D, Q, s))\n",
    "results = model.fit()"
   ]
  },
  {
   "cell_type": "code",
   "execution_count": 12,
   "metadata": {},
   "outputs": [
    {
     "name": "stdout",
     "output_type": "stream",
     "text": [
      "                                      SARIMAX Results                                      \n",
      "===========================================================================================\n",
      "Dep. Variable:                  number_of_sunspots   No. Observations:                  684\n",
      "Model:             SARIMAX(1, 0, 1)x(2, 1, [], 44)   Log Likelihood               -2969.205\n",
      "Date:                             Tue, 03 Dec 2024   AIC                           5948.409\n",
      "Time:                                     09:50:20   BIC                           5970.717\n",
      "Sample:                                 03-31-1849   HQIC                          5957.068\n",
      "                                      - 12-31-2019                                         \n",
      "Covariance Type:                               opg                                         \n",
      "==============================================================================\n",
      "                 coef    std err          z      P>|z|      [0.025      0.975]\n",
      "------------------------------------------------------------------------------\n",
      "ar.L1          0.9240      0.013     70.761      0.000       0.898       0.950\n",
      "ma.L1         -0.2534      0.032     -8.017      0.000      -0.315      -0.191\n",
      "ar.S.L44      -0.6412      0.036    -17.765      0.000      -0.712      -0.570\n",
      "ar.S.L88      -0.2821      0.036     -7.876      0.000      -0.352      -0.212\n",
      "sigma2       606.3425     30.586     19.824      0.000     546.395     666.290\n",
      "===================================================================================\n",
      "Ljung-Box (L1) (Q):                   0.03   Jarque-Bera (JB):                12.24\n",
      "Prob(Q):                              0.85   Prob(JB):                         0.00\n",
      "Heteroskedasticity (H):               1.03   Skew:                             0.21\n",
      "Prob(H) (two-sided):                  0.86   Kurtosis:                         3.53\n",
      "===================================================================================\n",
      "\n",
      "Warnings:\n",
      "[1] Covariance matrix calculated using the outer product of gradients (complex-step).\n"
     ]
    }
   ],
   "source": [
    "print(results.summary())"
   ]
  },
  {
   "cell_type": "code",
   "execution_count": 13,
   "metadata": {},
   "outputs": [
    {
     "name": "stderr",
     "output_type": "stream",
     "text": [
      "/usr/local/lib/python3.8/site-packages/statsmodels/tsa/base/tsa_model.py:132: FutureWarning: The 'freq' argument in Timestamp is deprecated and will be removed in a future version.\n",
      "  date_key = Timestamp(key, freq=base_index.freq)\n"
     ]
    },
    {
     "data": {
      "image/png": "[encoded data removed]",
      "text/plain": [
       "<Figure size 432x288 with 1 Axes>"
      ]
     },
     "metadata": {
      "needs_background": "light"
     },
     "output_type": "display_data"
    }
   ],
   "source": [
    "forecast = results.predict(start = num_sunspots.index[-2], end = num_sunspots.index[-2] + pd.DateOffset(months = 240), dynamic = True)\n",
    "num_sunspots.plot()\n",
    "forecast.plot()\n",
    "plt.show()"
   ]
  },
  {
   "cell_type": "markdown",
   "metadata": {},
   "source": [
    "### Conclusion\n",
    "Sunspot data does have a stationary, seasonal pattern that reflects the magnetic field's cycle. Some periods have a higher peak, such as 1959. More research into the sun's natural cycles may provide insight into why this period is unique.\n",
    "\n",
    "Future research should leverage grid search to determine the optimal combination of parameters and report accuracy measures. This analysis simply used visual interpretations and trial and error to find a suitable combination of parameters. Grid search would lead to a more robust analysis. "
   ]
  }
 ],
 "metadata": {
  "kernelspec": {
   "display_name": "Python 3 (ipykernel)",
   "language": "python",
   "name": "python3"
  },
  "language_info": {
   "codemirror_mode": {
    "name": "ipython",
    "version": 3
   },
   "file_extension": ".py",
   "mimetype": "text/x-python",
   "name": "python",
   "nbconvert_exporter": "python",
   "pygments_lexer": "ipython3",
   "version": "3.12.3"
  }
 },
 "nbformat": 4,
 "nbformat_minor": 4
}
